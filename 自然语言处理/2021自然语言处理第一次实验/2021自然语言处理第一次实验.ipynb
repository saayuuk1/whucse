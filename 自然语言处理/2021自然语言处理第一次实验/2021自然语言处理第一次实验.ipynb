{
 "cells": [
  {
   "cell_type": "markdown",
   "metadata": {},
   "source": [
    "## (1)\t使用jieba进行分词"
   ]
  },
  {
   "cell_type": "code",
   "execution_count": 4,
   "metadata": {},
   "outputs": [
    {
     "name": "stdout",
     "output_type": "stream",
     "text": [
      "他/在/武汉大学/学习\n"
     ]
    }
   ],
   "source": [
    "import jieba\n",
    "seg_list = jieba.cut(\"他在武汉大学学习\", cut_all=False)\n",
    "print(\"/\".join(seg_list))"
   ]
  },
  {
   "cell_type": "markdown",
   "metadata": {},
   "source": [
    "## (2)\t使用gensim中的Word2Vec模型训练词向量"
   ]
  },
  {
   "cell_type": "code",
   "execution_count": 5,
   "metadata": {},
   "outputs": [],
   "source": [
    "import jieba\n",
    "from gensim.models import word2vec\n",
    "if __name__ == \"__main__\":\n",
    "    \n",
    "    with open(r\".\\expl_corpus.txt\", encoding='utf-8') as f1:\n",
    "        document = f1.read()\n",
    "        document_cut = jieba.cut(document)\n",
    "        result = ' '.join(document_cut)\n",
    "        with open(r\".\\expl_corpus_segment.txt\", 'w', encoding='utf-8') as f2:\n",
    "            f2.write(result)\n",
    "        \n",
    "    corpus = r\".\\expl_corpus_segment.txt\"\n",
    "    sentences = word2vec.LineSentence(corpus)"
   ]
  },
  {
   "cell_type": "code",
   "execution_count": 14,
   "metadata": {},
   "outputs": [],
   "source": [
    "if __name__ == \"__main__\":\n",
    "    model = word2vec.Word2Vec(sentences, size=100, window=20, min_count=1, workers=4)\n",
    "    model.save(r\".\\word2vec.model\")\n",
    "    model.wv.save_word2vec_format(r\".\\w2v.txt\")"
   ]
  },
  {
   "cell_type": "markdown",
   "metadata": {},
   "source": [
    "## (3)\t使用训练好的词向量对指定的词进行相关性比较"
   ]
  },
  {
   "cell_type": "code",
   "execution_count": 15,
   "metadata": {
    "scrolled": true
   },
   "outputs": [
    {
     "name": "stdout",
     "output_type": "stream",
     "text": [
      "0.43596\n"
     ]
    }
   ],
   "source": [
    "if __name__ == \"__main__\":\n",
    "    r = model.wv.similarity('中国', '中华')\n",
    "    print(r)"
   ]
  },
  {
   "cell_type": "markdown",
   "metadata": {},
   "source": [
    "## (4)\t使用训练好的词向量选出与指定词类比最相似的5个词"
   ]
  },
  {
   "cell_type": "code",
   "execution_count": 17,
   "metadata": {},
   "outputs": [
    {
     "name": "stdout",
     "output_type": "stream",
     "text": [
      "[('沈阳', 0.9109004735946655), ('郑州', 0.9063078165054321), ('成都', 0.8954720497131348), ('哈尔滨', 0.8820277452468872), ('太原', 0.8812846541404724)]\n"
     ]
    }
   ],
   "source": [
    "from gensim.models import word2vec\n",
    "import gensim\n",
    "path = r'.\\word2vec.model'\n",
    "wv_model = gensim.models.Word2Vec.load(path)\n",
    "r = wv_model.wv.most_similar(positive=['武汉'], topn=5)\n",
    "print(r)"
   ]
  },
  {
   "cell_type": "markdown",
   "metadata": {},
   "source": [
    "## (5)\t使用训练好的词向量选出与指定词类比最相似和最不相似的5个词"
   ]
  },
  {
   "cell_type": "code",
   "execution_count": 18,
   "metadata": {},
   "outputs": [
    {
     "name": "stdout",
     "output_type": "stream",
     "text": [
      "[('河南', 0.8787837028503418), ('河北', 0.8739839196205139), ('安徽', 0.8555622100830078), ('黑龙江', 0.8510888814926147), ('浙江', 0.8479000329971313)]\n"
     ]
    }
   ],
   "source": [
    "from gensim.models import word2vec\n",
    "import gensim\n",
    "path = r'.\\word2vec.model'\n",
    "wv_model = gensim.models.Word2Vec.load(path)\n",
    "r = wv_model.wv.most_similar(positive=['湖北', '成都'], negative=['武汉'], topn=5)\n",
    "print(r)"
   ]
  },
  {
   "cell_type": "markdown",
   "metadata": {},
   "source": [
    "## (6)\t使用sklearn中的PCA方法对指定列表中的所有词的词向量进行降维并使用seaborn和matplotlib将其可视化"
   ]
  },
  {
   "cell_type": "code",
   "execution_count": 4,
   "metadata": {},
   "outputs": [
    {
     "name": "stderr",
     "output_type": "stream",
     "text": [
      "C:\\Users\\22848\\AppData\\Local\\Temp/ipykernel_54284/780457303.py:17: DeprecationWarning: Call to deprecated `__getitem__` (Method will be removed in 4.0.0, use self.wv.__getitem__() instead).\n",
      "  embeddings.append(wv_model[i])\n"
     ]
    },
    {
     "data": {
      "image/png": "[encoded data removed]",
      "text/plain": [
       "<Figure size 432x288 with 1 Axes>"
      ]
     },
     "metadata": {
      "needs_background": "light"
     },
     "output_type": "display_data"
    }
   ],
   "source": [
    "from gensim.models import word2vec\n",
    "import gensim\n",
    "from sklearn.decomposition import PCA\n",
    "import seaborn as sns\n",
    "import matplotlib.pyplot as plt\n",
    "\n",
    "data = ['江苏', '南京', '成都', '四川', '湖北', '武汉', '河南', '郑州', '甘肃', '郑州', '湖南', '长沙', '陕西', '西安', '吉林', '长春',\\\n",
    "        '广东', '广州', '浙江', '杭州']\n",
    "\n",
    "# 导入模型\n",
    "path = r'.\\word2vec.model'\n",
    "wv_model = gensim.models.Word2Vec.load(path)\n",
    "\n",
    "# 构造符合pca.fit_transform输入的二维数组\n",
    "embeddings = []\n",
    "for i in data:\n",
    "    embeddings.append(wv_model[i])\n",
    "\n",
    "# 构建PCA模型\n",
    "pca = PCA(n_components=2)\n",
    "results = pca.fit_transform(embeddings)\n",
    "\n",
    "# 配置绘图选项以显示中文\n",
    "plt.rcParams['font.sans-serif'] = ['SimHei']\n",
    "plt.rcParams['axes.unicode_minus'] = False\n",
    "\n",
    "# 绘图\n",
    "sns.scatterplot(x=results[:, 0], y=results[:, 1])\n",
    "for index, xy in enumerate(zip(results[:, 0], results[:, 1])):\n",
    "    plt.annotate(data[index], xy=xy, xytext=(xy[0]+0.1, xy[1]+0.1))"
   ]
  }
 ],
 "metadata": {
  "kernelspec": {
   "display_name": "NLP",
   "language": "python",
   "name": "nlp"
  },
  "language_info": {
   "codemirror_mode": {
    "name": "ipython",
    "version": 3
   },
   "file_extension": ".py",
   "mimetype": "text/x-python",
   "name": "python",
   "nbconvert_exporter": "python",
   "pygments_lexer": "ipython3",
   "version": "3.8.11"
  }
 },
 "nbformat": 4,
 "nbformat_minor": 4
}
